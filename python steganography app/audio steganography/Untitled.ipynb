{
 "cells": [
  {
   "cell_type": "code",
   "execution_count": 1,
   "metadata": {},
   "outputs": [],
   "source": [
    "#this project assumes you feed it the audio file with name sample111.wav 16 bit pcm audio feel free for best possible results\n",
    "#packages\n",
    "\n",
    "import wave\n",
    "import numpy as np"
   ]
  },
  {
   "cell_type": "code",
   "execution_count": 2,
   "metadata": {},
   "outputs": [],
   "source": [
    "#open wav file as wav_object\n",
    "file = wave.open(\"sample.wav\")"
   ]
  },
  {
   "cell_type": "code",
   "execution_count": 3,
   "metadata": {},
   "outputs": [],
   "source": [
    "#data header is 44 byte but this takes data directly so we read all data\n",
    "datadata = file.readframes(-1)"
   ]
  },
  {
   "cell_type": "code",
   "execution_count": 4,
   "metadata": {},
   "outputs": [],
   "source": [
    "#data in numpy array int16 format\n",
    "datainint = np.frombuffer(datadata,np.int16) #it will be in binary string format so we convert it to int16\n"
   ]
  },
  {
   "cell_type": "code",
   "execution_count": 5,
   "metadata": {},
   "outputs": [],
   "source": [
    "#total frames\n",
    "number_of_frames= file.getnframes()\n",
    "#frames per sec\n",
    "samples_per_second = file.getframerate()\n",
    "\n",
    "time_duration_for_one_sample = 1/float(samples_per_second)\n",
    "#number of bytes per channel each frame has data if its 2 then its 16 bit depth verify first before proceeding\n",
    "sample_width = file.getsampwidth() "
   ]
  },
  {
   "cell_type": "code",
   "execution_count": 6,
   "metadata": {},
   "outputs": [
    {
     "name": "stdout",
     "output_type": "stream",
     "text": [
      "94691\n",
      "44100\n",
      "2\n",
      "[  -4    4   -1    3   -4    4   -1   -1    4    4    4  -12  -61  -57\n",
      "  -48  -48  -54  -21  -93 -257 -435 -556 -674 -780 -838 -861 -836 -821\n",
      " -751 -663 -575 -527 -514 -484 -478 -485 -537 -536 -534 -524 -543 -565\n",
      " -565 -602 -638 -683 -690 -676 -645 -610 -563 -478 -448 -429 -424 -365\n",
      " -327 -302 -349 -391]\n",
      "b'\\xfc\\xff\\x04\\x00\\xff\\xff\\x03\\x00\\xfc\\xff\\x04\\x00\\xff\\xff\\xff\\xff\\x04\\x00\\x04\\x00\\x04\\x00\\xf4\\xff\\xc3\\xff\\xc7\\xff\\xd0\\xff\\xd0\\xff\\xca\\xff\\xeb\\xff\\xa3\\xff\\xff\\xfeM\\xfe\\xd4\\xfd^\\xfd\\xf4\\xfc\\xba\\xfc\\xa3\\xfc\\xbc\\xfc\\xcb\\xfc\\x11\\xfdi\\xfd'\n"
     ]
    }
   ],
   "source": [
    "print(number_of_frames)\n",
    "print(samples_per_second);\n",
    "print(sample_width)\n",
    "print(datainint[:60])\n",
    "print(datadata[:60])"
   ]
  },
  {
   "cell_type": "code",
   "execution_count": 7,
   "metadata": {},
   "outputs": [],
   "source": [
    "#create empty array for encoded music\n",
    "encodeddata = []\n",
    "#we create the encoding values like this[1,11,1,1,1,1,1,1 ...] and first 6 bits contains number of iterations bits are for bitlength and rema\n",
    "# encodingdata = [(number of iterations in binary  used to decode),1,0,1]\n",
    "#time of song\n",
    "time_duration_total = number_of_frames/samples_per_second\n",
    "sample_duration = 1\n",
    "time_sequence = np.arange(0,time_duration_total,time_duration_for_one_sample)\n"
   ]
  },
  {
   "cell_type": "code",
   "execution_count": 8,
   "metadata": {},
   "outputs": [
    {
     "name": "stdout",
     "output_type": "stream",
     "text": [
      "2.14718820861678\n",
      "94691\n"
     ]
    }
   ],
   "source": [
    "time_duration_total = number_of_frames / float(samples_per_second)\n",
    "time_sequence = np.arange(0,time_duration_total,time_duration_for_one_sample)\n",
    "print(time_duration_total)\n",
    "print(len(time_sequence))"
   ]
  },
  {
   "cell_type": "code",
   "execution_count": null,
   "metadata": {},
   "outputs": [],
   "source": [
    "\n"
   ]
  },
  {
   "cell_type": "code",
   "execution_count": null,
   "metadata": {},
   "outputs": [],
   "source": []
  },
  {
   "cell_type": "code",
   "execution_count": 9,
   "metadata": {},
   "outputs": [],
   "source": [
    "import scipy.io.wavfile as wavf\n",
    "import numpy as np"
   ]
  },
  {
   "cell_type": "code",
   "execution_count": 10,
   "metadata": {},
   "outputs": [],
   "source": [
    "samples = datainint\n",
    "fs = 44100\n",
    "out_f = 'out1.wav'\n",
    "\n",
    "wavf.write(out_f, fs, samples)\n",
    "\n"
   ]
  },
  {
   "cell_type": "code",
   "execution_count": null,
   "metadata": {},
   "outputs": [],
   "source": []
  }
 ],
 "metadata": {
  "kernelspec": {
   "display_name": "Python 3",
   "language": "python",
   "name": "python3"
  },
  "language_info": {
   "codemirror_mode": {
    "name": "ipython",
    "version": 3
   },
   "file_extension": ".py",
   "mimetype": "text/x-python",
   "name": "python",
   "nbconvert_exporter": "python",
   "pygments_lexer": "ipython3",
   "version": "3.7.3"
  }
 },
 "nbformat": 4,
 "nbformat_minor": 2
}
